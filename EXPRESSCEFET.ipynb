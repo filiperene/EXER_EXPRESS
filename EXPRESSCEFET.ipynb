{
 "cells": [
  {
   "cell_type": "markdown",
   "id": "000ffc7e",
   "metadata": {},
   "source": [
    "## EXERCICIO 1"
   ]
  },
  {
   "cell_type": "code",
   "execution_count": 2,
   "id": "5f997973",
   "metadata": {
    "scrolled": true
   },
   "outputs": [
    {
     "name": "stdout",
     "output_type": "stream",
     "text": [
      "Insira o valor da incognita A: -4\n",
      "NÚMERO INVÁLIDO \n"
     ]
    }
   ],
   "source": [
    "a = float(input(\"Insira o valor da incognita A: \"))\n",
    "if(a<0):\n",
    "    print(\"NÚMERO INVÁLIDO \")\n",
    "else:\n",
    "    b = float(input(\"Insira o valor da incognita B: \"))\n",
    "    if(b<0):\n",
    "        print(\"NÚMERO INVÁLIDO \")\n",
    "    else:\n",
    "        c = float(input(\"Insira o valor da incognita C: \"))\n",
    "        if(c<0):\n",
    "            print(\"NÚMERO INVÁLIDO \")\n",
    "        else:\n",
    "            d = (b**2)-(4*a*c)\n",
    "            print(\"O valor de DELTA é: \",d )\n",
    "            e = 1/((1+a)**3)\n",
    "            f = 1/(1+e)\n",
    "            g = 1+f\n",
    "            print(\"O valor da expressão é \",g)"
   ]
  },
  {
   "cell_type": "markdown",
   "id": "110dbf78",
   "metadata": {},
   "source": [
    "## EXERCICIO 2\n"
   ]
  },
  {
   "cell_type": "code",
   "execution_count": null,
   "id": "9601ff36",
   "metadata": {},
   "outputs": [],
   "source": [
    "import math \n",
    "a = 1/(2*math.log(2016,2))\n",
    "b = 1/(5*math.log(2016,3))\n",
    "c = 1/(10*math.log(2016,7))\n",
    "print(a+b+c)"
   ]
  },
  {
   "cell_type": "code",
   "execution_count": 4,
   "id": "cde74367",
   "metadata": {},
   "outputs": [
    {
     "name": "stdout",
     "output_type": "stream",
     "text": [
      "-0.050537061223296854\n"
     ]
    }
   ],
   "source": [
    "import math\n",
    "a = (7**(math.cos(25*(math.pi))))*(math.log(2))+(1/(math.sqrt(65)))\n",
    "b = (75**8)*math.sin(36*math.pi)\n",
    "print(a/b)"
   ]
  },
  {
   "cell_type": "code",
   "execution_count": 5,
   "id": "e16c48b2",
   "metadata": {},
   "outputs": [
    {
     "name": "stdout",
     "output_type": "stream",
     "text": [
      "2.736842105263158\n"
     ]
    }
   ],
   "source": [
    "a = 1/(1+(1/4))\n",
    "b = 1/(2+a)\n",
    "c = 1/(1+b)\n",
    "d = 2+c\n",
    "print(d)"
   ]
  },
  {
   "cell_type": "markdown",
   "id": "9199f595",
   "metadata": {},
   "source": [
    "## EXERCICIO 3"
   ]
  },
  {
   "cell_type": "code",
   "execution_count": 8,
   "id": "b7b8bc9a",
   "metadata": {},
   "outputs": [
    {
     "name": "stdout",
     "output_type": "stream",
     "text": [
      "Digite a coordenada x do primeiro ponto 1\n",
      "Digite a coordenada y do primeiro ponto 1\n",
      "Digite a coordenada x do segundo ponto 1\n",
      "Digite a coordenada y do segundo ponto 1\n",
      "A distância entre os pontos é de:  0.0\n"
     ]
    }
   ],
   "source": [
    "import math\n",
    "x1 = float(input(\"Digite a coordenada x do primeiro ponto \"))\n",
    "y1 = float(input(\"Digite a coordenada y do primeiro ponto \"))\n",
    "x2 = float(input(\"Digite a coordenada x do segundo ponto \"))\n",
    "y2 = float(input(\"Digite a coordenada y do segundo ponto \"))\n",
    "d = math.sqrt(((x1-x2)**2)+((y1-y2)**2))\n",
    "print(\"A distância entre os pontos é de: \", d)"
   ]
  },
  {
   "cell_type": "markdown",
   "id": "2522fd49",
   "metadata": {},
   "source": [
    "## EXERCICIO 4"
   ]
  },
  {
   "cell_type": "code",
   "execution_count": null,
   "id": "52f8010c",
   "metadata": {},
   "outputs": [],
   "source": [
    "seg = float(input(\"Digite quantos segundos deseja converter \"))\n",
    "minuto = seg//60\n",
    "minr = seg%60\n",
    "hor = minr//60\n",
    "print(\"horas: \" , hor)\n",
    "print(\"minutos: \" , minuto)\n",
    "print(\"segundos: \", seg)"
   ]
  },
  {
   "cell_type": "markdown",
   "id": "1a3bee0b",
   "metadata": {},
   "source": [
    "## EXERCICIO 5"
   ]
  },
  {
   "cell_type": "code",
   "execution_count": null,
   "id": "159234ac",
   "metadata": {},
   "outputs": [],
   "source": [
    "cm = float(input(\"Digite quantos cm deseja converter: \"))\n",
    "m = cm//100\n",
    "mr = cm%100"
   ]
  }
 ],
 "metadata": {
  "kernelspec": {
   "display_name": "Python 3 (ipykernel)",
   "language": "python",
   "name": "python3"
  },
  "language_info": {
   "codemirror_mode": {
    "name": "ipython",
    "version": 3
   },
   "file_extension": ".py",
   "mimetype": "text/x-python",
   "name": "python",
   "nbconvert_exporter": "python",
   "pygments_lexer": "ipython3",
   "version": "3.9.7"
  }
 },
 "nbformat": 4,
 "nbformat_minor": 5
}
